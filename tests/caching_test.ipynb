{
 "cells": [
  {
   "cell_type": "code",
   "execution_count": 37,
   "metadata": {},
   "outputs": [],
   "source": [
    "import logging\n",
    "logger = logging.getLogger()\n",
    "from collections import Callable, deque, namedtuple\n",
    "import numpy as np\n",
    "import matplotlib as mpl\n",
    "import matplotlib.pyplot as plt\n",
    "\n",
    "import shelve\n",
    "\n",
    "from odictliteral import odict as odict\n",
    "import theano_shim as shim\n",
    "\n",
    "import mackelab as ml\n",
    "import mackelab.plot\n",
    "\n",
    "import sinn   # Install sinn from https://github.com/mackelab/sinn\n",
    "from sinn.histories import Series\n",
    "from sinn.history_functions import GaussianWhiteNoise, Step\n",
    "import sinn.models as models\n",
    "from sinn.models import Model\n",
    "import sinn.analyze as anlz\n",
    "from sinn.models.dummy_quadratic import DummyQuad\n",
    "\n",
    "logger.setLevel(logging.INFO)\n",
    "logging.debug(\"Root logging level set to 'DEBUG'.\")\n",
    "    # Without this line, calls to logger.info don't actually work\n",
    "%matplotlib inline"
   ]
  },
  {
   "cell_type": "code",
   "execution_count": 38,
   "metadata": {},
   "outputs": [],
   "source": [
    "plt.style.use('mldefault')\n",
    "ml.plot.invert_color_values('axes.prop_cycle') # Prefer higher contrast"
   ]
  },
  {
   "cell_type": "code",
   "execution_count": 39,
   "metadata": {},
   "outputs": [],
   "source": [
    "ml.plot.invert_color_values()"
   ]
  },
  {
   "cell_type": "code",
   "execution_count": 40,
   "metadata": {},
   "outputs": [],
   "source": [
    "shim.load_theano()"
   ]
  },
  {
   "cell_type": "markdown",
   "metadata": {},
   "source": [
    "Clear the caches, so we can first test creation"
   ]
  },
  {
   "cell_type": "markdown",
   "metadata": {},
   "source": [
    "    with shelve.open('sinn.models.cache') as cache:\n",
    "        cache.clear()\n",
    "    with shelve.open('sinn.models.compilecache') as cache:\n",
    "        cache.clear()"
   ]
  },
  {
   "cell_type": "code",
   "execution_count": 5,
   "metadata": {},
   "outputs": [],
   "source": [
    "I = Step(name='I', \n",
    "         t0=0,       tn=10,      dt=0.01,\n",
    "         baseline=0, height=3,\n",
    "         start=1.,  stop=9.,\n",
    "         symbolic=False)\n",
    "I.set();\n",
    "I.lock()"
   ]
  },
  {
   "cell_type": "code",
   "execution_count": 6,
   "metadata": {},
   "outputs": [
    {
     "data": {
      "image/png": "[encoded data removed]",
      "text/plain": [
       "<Figure size 540x333.6 with 1 Axes>"
      ]
     },
     "metadata": {},
     "output_type": "display_data"
    }
   ],
   "source": [
    "anlz.plot(I);"
   ]
  },
  {
   "cell_type": "code",
   "execution_count": 46,
   "metadata": {},
   "outputs": [],
   "source": [
    "import theano"
   ]
  },
  {
   "cell_type": "code",
   "execution_count": 60,
   "metadata": {},
   "outputs": [
    {
     "data": {
      "text/plain": [
       "\u001b[0;31mSignature:\u001b[0m \u001b[0mtheano\u001b[0m\u001b[0;34m.\u001b[0m\u001b[0mtensor\u001b[0m\u001b[0;34m.\u001b[0m\u001b[0mas_tensor_variable\u001b[0m\u001b[0;34m(\u001b[0m\u001b[0mx\u001b[0m\u001b[0;34m,\u001b[0m \u001b[0mname\u001b[0m\u001b[0;34m=\u001b[0m\u001b[0;32mNone\u001b[0m\u001b[0;34m,\u001b[0m \u001b[0mndim\u001b[0m\u001b[0;34m=\u001b[0m\u001b[0;32mNone\u001b[0m\u001b[0;34m)\u001b[0m\u001b[0;34m\u001b[0m\u001b[0m\n",
       "\u001b[0;31mDocstring:\u001b[0m\n",
       "Return `x`, transformed into a `TensorType`.\n",
       "\n",
       "This function is often used by `make_node` methods of `Op` subclasses\n",
       "to turn ndarrays, numbers, `Scalar` instances, `Apply` instances and\n",
       "`TensorType` instances into valid input list elements.\n",
       "\n",
       "Parameters\n",
       "----------\n",
       "x : Apply instance, Variable instance, numpy.ndarray, or number\n",
       "    This thing will be transformed into a `Variable` in a sensible way. An\n",
       "    ndarray argument will not be copied, but a list of numbers will be\n",
       "    copied to make an ndarray.\n",
       "name : str or None\n",
       "    If a new `Variable` instance is created, it will be named with this\n",
       "    string.\n",
       "ndim : None or integer\n",
       "    Return a Variable with this many dimensions.\n",
       "\n",
       "Raises\n",
       "------\n",
       "ValueError\n",
       "    If an `Apply` with more than one output is fetched or\n",
       "    if `x` cannot be made into a Variable with `ndim` dimensions.\n",
       "AsTensorError\n",
       "    If `x` cannot be converted to a TensorType Variable.\n",
       "\u001b[0;31mFile:\u001b[0m      ~/usr/venv/mackelab/lib64/python3.6/site-packages/theano/tensor/basic.py\n",
       "\u001b[0;31mType:\u001b[0m      function\n"
      ]
     },
     "metadata": {},
     "output_type": "display_data"
    }
   ],
   "source": [
    "theano.tensor.as_tensor_variable?"
   ]
  },
  {
   "cell_type": "code",
   "execution_count": 57,
   "metadata": {},
   "outputs": [
    {
     "data": {
      "text/plain": [
       "I data"
      ]
     },
     "execution_count": 57,
     "metadata": {},
     "output_type": "execute_result"
    }
   ],
   "source": [
    "I._data"
   ]
  },
  {
   "cell_type": "code",
   "execution_count": 51,
   "metadata": {},
   "outputs": [
    {
     "ename": "AttributeError",
     "evalue": "'str' object has no attribute 'filter'",
     "output_type": "error",
     "traceback": [
      "\u001b[0;31m---------------------------------------------------------------------------\u001b[0m",
      "\u001b[0;31mAttributeError\u001b[0m                            Traceback (most recent call last)",
      "\u001b[0;32m<ipython-input-51-0606f8373c08>\u001b[0m in \u001b[0;36m<module>\u001b[0;34m\u001b[0m\n\u001b[0;32m----> 1\u001b[0;31m \u001b[0mtheano\u001b[0m\u001b[0;34m.\u001b[0m\u001b[0mtensor\u001b[0m\u001b[0;34m.\u001b[0m\u001b[0mTensorConstant\u001b[0m\u001b[0;34m(\u001b[0m\u001b[0;34m'int16'\u001b[0m\u001b[0;34m,\u001b[0m \u001b[0mnp\u001b[0m\u001b[0;34m.\u001b[0m\u001b[0marray\u001b[0m\u001b[0;34m(\u001b[0m\u001b[0;36m0\u001b[0m\u001b[0;34m)\u001b[0m\u001b[0;34m)\u001b[0m\u001b[0;34m\u001b[0m\u001b[0m\n\u001b[0m",
      "\u001b[0;32m~/usr/venv/mackelab/lib64/python3.6/site-packages/theano/tensor/var.py\u001b[0m in \u001b[0;36m__init__\u001b[0;34m(self, type, data, name)\u001b[0m\n\u001b[1;32m    959\u001b[0m     \"\"\"\n\u001b[1;32m    960\u001b[0m     \u001b[0;32mdef\u001b[0m \u001b[0m__init__\u001b[0m\u001b[0;34m(\u001b[0m\u001b[0mself\u001b[0m\u001b[0;34m,\u001b[0m \u001b[0mtype\u001b[0m\u001b[0;34m,\u001b[0m \u001b[0mdata\u001b[0m\u001b[0;34m,\u001b[0m \u001b[0mname\u001b[0m\u001b[0;34m=\u001b[0m\u001b[0;32mNone\u001b[0m\u001b[0;34m)\u001b[0m\u001b[0;34m:\u001b[0m\u001b[0;34m\u001b[0m\u001b[0m\n\u001b[0;32m--> 961\u001b[0;31m         \u001b[0mConstant\u001b[0m\u001b[0;34m.\u001b[0m\u001b[0m__init__\u001b[0m\u001b[0;34m(\u001b[0m\u001b[0mself\u001b[0m\u001b[0;34m,\u001b[0m \u001b[0mtype\u001b[0m\u001b[0;34m,\u001b[0m \u001b[0mdata\u001b[0m\u001b[0;34m,\u001b[0m \u001b[0mname\u001b[0m\u001b[0;34m)\u001b[0m\u001b[0;34m\u001b[0m\u001b[0m\n\u001b[0m\u001b[1;32m    962\u001b[0m         \u001b[0mself\u001b[0m\u001b[0;34m.\u001b[0m\u001b[0mtag\u001b[0m\u001b[0;34m.\u001b[0m\u001b[0munique_value\u001b[0m \u001b[0;34m=\u001b[0m \u001b[0;32mNone\u001b[0m\u001b[0;34m\u001b[0m\u001b[0m\n\u001b[1;32m    963\u001b[0m         \u001b[0;32mif\u001b[0m \u001b[0misinstance\u001b[0m\u001b[0;34m(\u001b[0m\u001b[0mdata\u001b[0m\u001b[0;34m,\u001b[0m \u001b[0mnp\u001b[0m\u001b[0;34m.\u001b[0m\u001b[0mndarray\u001b[0m\u001b[0;34m)\u001b[0m \u001b[0;32mand\u001b[0m \u001b[0mdata\u001b[0m\u001b[0;34m.\u001b[0m\u001b[0mndim\u001b[0m \u001b[0;34m>\u001b[0m \u001b[0;36m0\u001b[0m\u001b[0;34m:\u001b[0m\u001b[0;34m\u001b[0m\u001b[0m\n",
      "\u001b[0;32m~/usr/venv/mackelab/lib64/python3.6/site-packages/theano/gof/graph.py\u001b[0m in \u001b[0;36m__init__\u001b[0;34m(self, type, data, name)\u001b[0m\n\u001b[1;32m    577\u001b[0m     \u001b[0;32mdef\u001b[0m \u001b[0m__init__\u001b[0m\u001b[0;34m(\u001b[0m\u001b[0mself\u001b[0m\u001b[0;34m,\u001b[0m \u001b[0mtype\u001b[0m\u001b[0;34m,\u001b[0m \u001b[0mdata\u001b[0m\u001b[0;34m,\u001b[0m \u001b[0mname\u001b[0m\u001b[0;34m=\u001b[0m\u001b[0;32mNone\u001b[0m\u001b[0;34m)\u001b[0m\u001b[0;34m:\u001b[0m\u001b[0;34m\u001b[0m\u001b[0m\n\u001b[1;32m    578\u001b[0m         \u001b[0mVariable\u001b[0m\u001b[0;34m.\u001b[0m\u001b[0m__init__\u001b[0m\u001b[0;34m(\u001b[0m\u001b[0mself\u001b[0m\u001b[0;34m,\u001b[0m \u001b[0mtype\u001b[0m\u001b[0;34m,\u001b[0m \u001b[0;32mNone\u001b[0m\u001b[0;34m,\u001b[0m \u001b[0;32mNone\u001b[0m\u001b[0;34m,\u001b[0m \u001b[0mname\u001b[0m\u001b[0;34m)\u001b[0m\u001b[0;34m\u001b[0m\u001b[0m\n\u001b[0;32m--> 579\u001b[0;31m         \u001b[0mself\u001b[0m\u001b[0;34m.\u001b[0m\u001b[0mdata\u001b[0m \u001b[0;34m=\u001b[0m \u001b[0mtype\u001b[0m\u001b[0;34m.\u001b[0m\u001b[0mfilter\u001b[0m\u001b[0;34m(\u001b[0m\u001b[0mdata\u001b[0m\u001b[0;34m)\u001b[0m\u001b[0;34m\u001b[0m\u001b[0m\n\u001b[0m\u001b[1;32m    580\u001b[0m         \u001b[0mutils\u001b[0m\u001b[0;34m.\u001b[0m\u001b[0madd_tag_trace\u001b[0m\u001b[0;34m(\u001b[0m\u001b[0mself\u001b[0m\u001b[0;34m)\u001b[0m\u001b[0;34m\u001b[0m\u001b[0m\n\u001b[1;32m    581\u001b[0m \u001b[0;34m\u001b[0m\u001b[0m\n",
      "\u001b[0;31mAttributeError\u001b[0m: 'str' object has no attribute 'filter'"
     ]
    }
   ],
   "source": [
    "theano.tensor.TensorConstant('int16', np.array(0))"
   ]
  },
  {
   "cell_type": "code",
   "execution_count": 7,
   "metadata": {},
   "outputs": [
    {
     "name": "stdout",
     "output_type": "stream",
     "text": [
      "['da39a3ee5e6b4b0d3255bfef95601890afd8070941b5906132680257d50c2371e9869f33a87e2328', 'dependencyhash']\n"
     ]
    }
   ],
   "source": [
    "with shelve.open('sinn.models.compilecache') as cache:\n",
    "    print(list(cache.keys()))"
   ]
  },
  {
   "cell_type": "code",
   "execution_count": 8,
   "metadata": {},
   "outputs": [],
   "source": [
    "X = Series(I, name='X', symbolic=None)\n",
    "rng = shim.config.RandomStreams(314)\n",
    "params = odict['α': 2., 'σ': 1.]\n",
    "params = DummyQuad.Parameters(**{name: shim.shared(val) for name, val in params.items()})\n",
    "dq = DummyQuad(params, X, I, rng)"
   ]
  },
  {
   "cell_type": "code",
   "execution_count": 9,
   "metadata": {},
   "outputs": [
    {
     "name": "stdout",
     "output_type": "stream",
     "text": [
      "['da39a3ee5e6b4b0d3255bfef95601890afd8070941b5906132680257d50c2371e9869f33a87e2328', 'dependencyhash']\n"
     ]
    }
   ],
   "source": [
    "with shelve.open('sinn.models.compilecache') as cache:\n",
    "    print(list(cache.keys()))"
   ]
  },
  {
   "cell_type": "code",
   "execution_count": 10,
   "metadata": {},
   "outputs": [],
   "source": [
    "X[0] = 0"
   ]
  },
  {
   "cell_type": "markdown",
   "metadata": {},
   "source": [
    "    logger.setLevel(logging.DEBUG)"
   ]
  },
  {
   "cell_type": "code",
   "execution_count": 11,
   "metadata": {},
   "outputs": [
    {
     "name": "stderr",
     "output_type": "stream",
     "text": [
      "INFO:sinn.models.common:Constructing the update graph.\n",
      "INFO:sinn.models.common:Symbolic update graphs loaded from cache.\n",
      "INFO:sinn.models.common:Done.\n",
      "INFO:sinn.models.common:Compiling the update function\n",
      "INFO:sinn.models.common:Compiled advance function loaded from cache\n",
      "INFO:sinn.models.common:Done.\n"
     ]
    }
   ],
   "source": [
    "dq.advance('end')"
   ]
  },
  {
   "cell_type": "code",
   "execution_count": 12,
   "metadata": {},
   "outputs": [],
   "source": [
    "X2 = Series(I, name='X', symbolic=None)\n",
    "rng2 = shim.config.RandomStreams(314)\n",
    "    # RNG state is not taken from file (to allow changing it),\n",
    "    # so we must set the same seed here as abvoe.\n",
    "dq2 = DummyQuad(params, X2, I, rng2)"
   ]
  },
  {
   "cell_type": "code",
   "execution_count": 13,
   "metadata": {},
   "outputs": [
    {
     "name": "stderr",
     "output_type": "stream",
     "text": [
      "INFO:sinn.models.common:Constructing the update graph.\n",
      "INFO:sinn.models.common:Symbolic update graphs loaded from cache.\n",
      "INFO:sinn.models.common:Done.\n",
      "INFO:sinn.models.common:Compiling the update function\n",
      "INFO:sinn.models.common:Compiled advance function loaded from cache\n",
      "INFO:sinn.models.common:Done.\n"
     ]
    }
   ],
   "source": [
    "dq2.advance('end')"
   ]
  },
  {
   "cell_type": "code",
   "execution_count": 14,
   "metadata": {},
   "outputs": [
    {
     "data": {
      "text/plain": [
       "[<matplotlib.lines.Line2D at 0x7f497e796cc0>]"
      ]
     },
     "execution_count": 14,
     "metadata": {},
     "output_type": "execute_result"
    },
    {
     "data": {
      "image/png": "[encoded data removed]",
      "text/plain": [
       "<Figure size 540x333.6 with 1 Axes>"
      ]
     },
     "metadata": {},
     "output_type": "display_data"
    }
   ],
   "source": [
    "anlz.plot(dq.X)\n",
    "anlz.plot(dq2.X)"
   ]
  },
  {
   "cell_type": "code",
   "execution_count": 15,
   "metadata": {},
   "outputs": [
    {
     "data": {
      "text/plain": [
       "[<matplotlib.lines.Line2D at 0x7f49843b01d0>]"
      ]
     },
     "execution_count": 15,
     "metadata": {},
     "output_type": "execute_result"
    },
    {
     "data": {
      "image/png": "[encoded data removed]",
      "text/plain": [
       "<Figure size 540x333.6 with 1 Axes>"
      ]
     },
     "metadata": {},
     "output_type": "display_data"
    }
   ],
   "source": [
    "anlz.plot(dq.X.trace - dq2.X.trace)"
   ]
  },
  {
   "cell_type": "code",
   "execution_count": null,
   "metadata": {},
   "outputs": [],
   "source": []
  },
  {
   "cell_type": "code",
   "execution_count": 15,
   "metadata": {},
   "outputs": [],
   "source": [
    "dq.X.lock()"
   ]
  },
  {
   "cell_type": "code",
   "execution_count": 16,
   "metadata": {},
   "outputs": [
    {
     "name": "stderr",
     "output_type": "stream",
     "text": [
      "INFO:sinn.models.common:Symbolic update graphs loaded from cache.\n"
     ]
    }
   ],
   "source": [
    "g = dq.logp(start=10, batch_size=100)"
   ]
  },
  {
   "cell_type": "code",
   "execution_count": 13,
   "metadata": {},
   "outputs": [
    {
     "data": {
      "text/plain": [
       "0.9160921535851169"
      ]
     },
     "execution_count": 13,
     "metadata": {},
     "output_type": "execute_result"
    }
   ],
   "source": [
    "g"
   ]
  },
  {
   "cell_type": "code",
   "execution_count": 17,
   "metadata": {},
   "outputs": [
    {
     "data": {
      "text/plain": [
       "array(1.15419223)"
      ]
     },
     "execution_count": 17,
     "metadata": {},
     "output_type": "execute_result"
    }
   ],
   "source": [
    "g.eval()"
   ]
  },
  {
   "cell_type": "markdown",
   "metadata": {},
   "source": [
    "| method | logp |\n",
    "|---|--|\n",
    "| theano | 1.15419223 |\n",
    "| theano (direct) | 1.154192230811662 |\n",
    "| numpy  | 0.9160921535851169 |\n",
    "| numpy (direct)  | 0.91609215"
   ]
  },
  {
   "cell_type": "code",
   "execution_count": 33,
   "metadata": {},
   "outputs": [
    {
     "name": "stderr",
     "output_type": "stream",
     "text": [
      "WARNING:sinn.history:Theano history updates are not meant for filling them recursively, but rather for generating an update graph (which can be fed into a scan). You are asking to create an update graph with 110 steps; be advised that this may require large amounts of memory and extremely long compilation times.\n"
     ]
    }
   ],
   "source": [
    "dq.Xbar.clear()\n",
    "Xbar = dq.Xbar[10:110].eval()"
   ]
  },
  {
   "cell_type": "code",
   "execution_count": 25,
   "metadata": {},
   "outputs": [
    {
     "data": {
      "text/plain": [
       "'Xbar data[Constant{10}]'"
      ]
     },
     "execution_count": 25,
     "metadata": {},
     "output_type": "execute_result"
    }
   ],
   "source": [
    "((dq.X.trace[10:110] - Xbar)**2).sum()"
   ]
  },
  {
   "cell_type": "code",
   "execution_count": 12,
   "metadata": {},
   "outputs": [
    {
     "data": {
      "text/plain": [
       "16.227554821541013"
      ]
     },
     "execution_count": 12,
     "metadata": {},
     "output_type": "execute_result"
    }
   ],
   "source": [
    "iX = dq.get_tidx_for(10, dq.X)\n",
    "iXbar = dq.get_tidx_for(10, dq.Xbar)\n",
    "np.sum((dq.X.data[iX:iX+100]-dq.Xbar.data[iXbar:iXbar+100])**2)"
   ]
  }
 ],
 "metadata": {
  "kernelspec": {
   "display_name": "Python 3",
   "language": "python",
   "name": "python3"
  },
  "language_info": {
   "codemirror_mode": {
    "name": "ipython",
    "version": 3
   },
   "file_extension": ".py",
   "mimetype": "text/x-python",
   "name": "python",
   "nbconvert_exporter": "python",
   "pygments_lexer": "ipython3",
   "version": "3.6.5"
  }
 },
 "nbformat": 4,
 "nbformat_minor": 2
}
